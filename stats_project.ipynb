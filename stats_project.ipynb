{
 "cells": [
  {
   "cell_type": "code",
   "execution_count": 412,
   "metadata": {},
   "outputs": [],
   "source": [
    "import pandas as pd\n",
    "import numpy as np\n",
    "import math \n",
    "import matplotlib\n",
    "import matplotlib.pyplot as plt\n",
    "%matplotlib inline"
   ]
  },
  {
   "cell_type": "code",
   "execution_count": 325,
   "metadata": {},
   "outputs": [],
   "source": [
    "binomial12 = pd.read_csv('Binomial12.csv')\n",
    "binomial12 = binomial12.append(pd.Series([np.NaN, np.NaN, np.NaN], index=['Binomial', 'Normal', 'Uniform']), ignore_index = True)\n",
    "# binomial12 our given csv file in dataframe format\n",
    "# we appended a row of NaN values in order to make our clean_Series function work"
   ]
  },
  {
   "cell_type": "code",
   "execution_count": 326,
   "metadata": {},
   "outputs": [],
   "source": [
    "binomial_variance = .81\n",
    "Binomial = pd.Series(binomial12['Binomial']) # Separate the distributions  \n",
    "Normal = pd.Series(binomial12['Normal'])     # into their own series\n",
    "Uniform = pd.Series(binomial12['Uniform'])"
   ]
  },
  {
   "cell_type": "markdown",
   "metadata": {},
   "source": [
    "Here I create a function to clean up the series we end up with from this dataset:"
   ]
  },
  {
   "cell_type": "code",
   "execution_count": 327,
   "metadata": {},
   "outputs": [],
   "source": [
    "def clean_Series(ser):\n",
    "    last_val = 0\n",
    "    for i in range(2, ser.size):\n",
    "        if pd.isnull(ser[i]):\n",
    "            last_val = i\n",
    "            break\n",
    "    ser = (pd.Series(data = ser[2:last_val].values)).apply(int)\n",
    "    return ser"
   ]
  },
  {
   "cell_type": "code",
   "execution_count": 328,
   "metadata": {},
   "outputs": [],
   "source": [
    "Binomial = clean_Series(Binomial)\n",
    "Normal = clean_Series(Normal)\n",
    "Uniform = clean_Series(Uniform)"
   ]
  },
  {
   "cell_type": "markdown",
   "metadata": {},
   "source": [
    "# Part A"
   ]
  },
  {
   "cell_type": "markdown",
   "metadata": {},
   "source": [
    "## A.1"
   ]
  },
  {
   "cell_type": "markdown",
   "metadata": {},
   "source": [
    "#### For the type of distribution presented in the first column, plot a histogram (normalized to unit area) of the data."
   ]
  },
  {
   "cell_type": "markdown",
   "metadata": {},
   "source": [
    "Our distribution is binomial, so we must create the appropriate histogram"
   ]
  },
  {
   "cell_type": "markdown",
   "metadata": {},
   "source": [
    "1: Find our range for the dataset"
   ]
  },
  {
   "cell_type": "code",
   "execution_count": 329,
   "metadata": {},
   "outputs": [
    {
     "data": {
      "text/plain": [
       "0"
      ]
     },
     "execution_count": 329,
     "metadata": {},
     "output_type": "execute_result"
    }
   ],
   "source": [
    "a = Binomial.min()\n",
    "a # our minimum"
   ]
  },
  {
   "cell_type": "code",
   "execution_count": 330,
   "metadata": {},
   "outputs": [
    {
     "data": {
      "text/plain": [
       "5"
      ]
     },
     "execution_count": 330,
     "metadata": {},
     "output_type": "execute_result"
    }
   ],
   "source": [
    "b = Binomial.max()\n",
    "b # our maximum"
   ]
  },
  {
   "cell_type": "markdown",
   "metadata": {},
   "source": [
    "Now, Dr. Kleinhenz suggested we intially try shifting a and b such that a < eXi < b, so we will extend the range by 1"
   ]
  },
  {
   "cell_type": "code",
   "execution_count": 331,
   "metadata": {},
   "outputs": [],
   "source": [
    "a -=.5\n",
    "b += .5"
   ]
  },
  {
   "cell_type": "code",
   "execution_count": 332,
   "metadata": {},
   "outputs": [
    {
     "data": {
      "text/plain": [
       "-0.5"
      ]
     },
     "execution_count": 332,
     "metadata": {},
     "output_type": "execute_result"
    }
   ],
   "source": [
    "a"
   ]
  },
  {
   "cell_type": "code",
   "execution_count": 333,
   "metadata": {
    "scrolled": true
   },
   "outputs": [
    {
     "data": {
      "text/plain": [
       "5.5"
      ]
     },
     "execution_count": 333,
     "metadata": {},
     "output_type": "execute_result"
    }
   ],
   "source": [
    "b"
   ]
  },
  {
   "cell_type": "markdown",
   "metadata": {},
   "source": [
    "2: we must select a width, w, and a number of bins, n such that: nw = b - a\n",
    "for a dataset of all integers, we typically pick w to be 1"
   ]
  },
  {
   "cell_type": "code",
   "execution_count": 334,
   "metadata": {},
   "outputs": [],
   "source": [
    "w = 1"
   ]
  },
  {
   "cell_type": "code",
   "execution_count": 335,
   "metadata": {},
   "outputs": [
    {
     "data": {
      "text/plain": [
       "6.0"
      ]
     },
     "execution_count": 335,
     "metadata": {},
     "output_type": "execute_result"
    }
   ],
   "source": [
    "n = (b - a) / w\n",
    "n"
   ]
  },
  {
   "cell_type": "markdown",
   "metadata": {},
   "source": [
    "3: Each data point Xi can be represented as follows:\n",
    "\n",
    "Xi = a + kw + ew\n",
    "\n",
    "where *a* is the left edge of the interval, *w* is the bin width, *k* is the number of whole bins between *a* and *Xi*, and 0 <= ew <= w with 0 <= e <= 1 is a fraction of a bin.\n",
    "\n",
    "divide the equation by *w* to get:\n",
    "\n",
    "*(Xi - a)/w = k + e*\n",
    "\n",
    "Since 0 <= e <= 1 and k is an integer it must be that\n",
    "\n",
    "*k* = [ *(Xi - a)/w* ]"
   ]
  },
  {
   "cell_type": "code",
   "execution_count": 336,
   "metadata": {},
   "outputs": [],
   "source": [
    "k = ((Binomial - a) / w).apply(math.floor)\n",
    "# k is our number of whole bins between between a and Xi"
   ]
  },
  {
   "cell_type": "code",
   "execution_count": 337,
   "metadata": {},
   "outputs": [],
   "source": [
    "BinomialDF = pd.DataFrame(Binomial, columns = ['Binomial'])\n",
    "BinomialDF['k'] = k\n",
    "# BinomialDF is our DataFrame containing the original Binomial dataset and our \n",
    "# new k values"
   ]
  },
  {
   "cell_type": "markdown",
   "metadata": {},
   "source": [
    "4: Each time Xi falls into some bin k, we must place a rectangle over the bin base that has a height *h* and width *w* (same as bin width)\n",
    "\n",
    "The total area under all such rectangles is A = whN \n",
    "\n",
    "where N is the total number of sample points\n",
    "\n",
    "we normalize A = 1 to set h\n",
    "\n",
    "h = 1 / (wN)"
   ]
  },
  {
   "cell_type": "code",
   "execution_count": 338,
   "metadata": {},
   "outputs": [
    {
     "data": {
      "text/plain": [
       "1200"
      ]
     },
     "execution_count": 338,
     "metadata": {},
     "output_type": "execute_result"
    }
   ],
   "source": [
    "N = Binomial.size\n",
    "N"
   ]
  },
  {
   "cell_type": "code",
   "execution_count": 339,
   "metadata": {},
   "outputs": [
    {
     "data": {
      "text/plain": [
       "0.0008333333333333334"
      ]
     },
     "execution_count": 339,
     "metadata": {},
     "output_type": "execute_result"
    }
   ],
   "source": [
    "h = 1 / (w * N)\n",
    "h"
   ]
  },
  {
   "cell_type": "code",
   "execution_count": 365,
   "metadata": {},
   "outputs": [],
   "source": [
    "BinomialDF['Histogram'] = pd.Series(BinomialDF['k'].value_counts())\n",
    "# BinomialDF with a Histogram column"
   ]
  },
  {
   "cell_type": "code",
   "execution_count": 475,
   "metadata": {},
   "outputs": [],
   "source": [
    "BinomialDF['Histogram Normalized to Unit Area'] = pd.Series(\n",
    "    BinomialDF['Histogram'] * h)\n",
    "# BinomialDF with our Histogram normalized"
   ]
  },
  {
   "cell_type": "code",
   "execution_count": 470,
   "metadata": {},
   "outputs": [
    {
     "data": {
      "image/png": "[encoded data removed]",
      "text/plain": [
       "<matplotlib.figure.Figure at 0x114cd190>"
      ]
     },
     "metadata": {},
     "output_type": "display_data"
    }
   ],
   "source": [
    "y = np.array(BinomialDF['Histogram Normalized to Unit Area'][0:6])\n",
    "y\n",
    "x = [0,1,2,3,4,5]\n",
    "import matplotlib.style as style\n",
    "style.use('fivethirtyeight')\n",
    "plt.bar(x,y)\n",
    "plt.xlabel('bin number', fontsize=14)\n",
    "plt.ylabel('bin height', fontsize=14)\n",
    "plt.title('Binomial12 Histogram Normalized to 1', fontsize=16)\n",
    "plt.text(x = -1.4, y=-.1, s='  Gabriel Kralik                                                 Stats Project   '   ,\n",
    "         fontsize=14, color='#f0f0f0', backgroundcolor='grey')\n",
    "plt.show()"
   ]
  },
  {
   "cell_type": "markdown",
   "metadata": {},
   "source": [
    "## A.2"
   ]
  },
  {
   "cell_type": "markdown",
   "metadata": {},
   "source": [
    "Estimate the mean and the variance for the column A distribution. For comparison, the\n",
    "exact variance is given in the cell labelled (here) Distribution Variance."
   ]
  },
  {
   "cell_type": "code",
   "execution_count": 474,
   "metadata": {},
   "outputs": [
    {
     "data": {
      "text/plain": [
       "0.93583333333333329"
      ]
     },
     "execution_count": 474,
     "metadata": {},
     "output_type": "execute_result"
    }
   ],
   "source": [
    "mu_est = Binomial.mean()\n",
    "mu_est # our mean"
   ]
  },
  {
   "cell_type": "code",
   "execution_count": 473,
   "metadata": {},
   "outputs": [
    {
     "data": {
      "text/plain": [
       "0.85409438420906325"
      ]
     },
     "execution_count": 473,
     "metadata": {},
     "output_type": "execute_result"
    }
   ],
   "source": [
    "var_est = Binomial.var()\n",
    "var_est"
   ]
  },
  {
   "cell_type": "markdown",
   "metadata": {},
   "source": [
    "## A.3"
   ]
  },
  {
   "cell_type": "markdown",
   "metadata": {},
   "source": [
    "The distributin found in the first column depends on two parameters as follows:\n",
    "\n",
    "Binomial Distribution : *n* and *p*\n",
    "\n",
    "Estimate the two parameters and determine a 96% confidence interval around each parameter"
   ]
  },
  {
   "cell_type": "code",
   "execution_count": null,
   "metadata": {},
   "outputs": [],
   "source": []
  }
 ],
 "metadata": {
  "kernelspec": {
   "display_name": "Python 3",
   "language": "python",
   "name": "python3"
  },
  "language_info": {
   "codemirror_mode": {
    "name": "ipython",
    "version": 3
   },
   "file_extension": ".py",
   "mimetype": "text/x-python",
   "name": "python",
   "nbconvert_exporter": "python",
   "pygments_lexer": "ipython3",
   "version": "3.6.2"
  }
 },
 "nbformat": 4,
 "nbformat_minor": 2
}
