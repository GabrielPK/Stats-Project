{
 "cells": [
  {
   "cell_type": "code",
   "execution_count": 102,
   "metadata": {
    "collapsed": true
   },
   "outputs": [],
   "source": [
    "import pandas as pd\n",
    "import numpy as np\n",
    "import math \n",
    "import matplotlib\n",
    "import matplotlib.pyplot as plt\n",
    "from scipy.stats import norm\n",
    "%matplotlib inline"
   ]
  },
  {
   "cell_type": "code",
   "execution_count": 46,
   "metadata": {
    "collapsed": true
   },
   "outputs": [],
   "source": [
    "binomial12 = pd.read_csv('Binomial12.csv')\n",
    "binomial12 = binomial12.append(pd.Series([np.NaN, np.NaN, np.NaN], index=['Binomial', 'Normal', 'Uniform']), ignore_index = True)\n",
    "# binomial12 our given csv file in dataframe format\n",
    "# we appended a row of NaN values in order to make our clean_Series function work"
   ]
  },
  {
   "cell_type": "code",
   "execution_count": 47,
   "metadata": {
    "collapsed": true
   },
   "outputs": [],
   "source": [
    "binomial_variance = .81\n",
    "Binomial = pd.Series(binomial12['Binomial']) # Separate the distributions  \n",
    "Normal = pd.Series(binomial12['Normal'])     # into their own series\n",
    "Uniform = pd.Series(binomial12['Uniform'])"
   ]
  },
  {
   "cell_type": "markdown",
   "metadata": {},
   "source": [
    "Here I create a function to clean up the series we end up with from this dataset:"
   ]
  },
  {
   "cell_type": "code",
   "execution_count": 48,
   "metadata": {
    "collapsed": true
   },
   "outputs": [],
   "source": [
    "def clean_Series(ser):\n",
    "    last_val = 0\n",
    "    for i in range(2, ser.size):\n",
    "        if pd.isnull(ser[i]):\n",
    "            last_val = i\n",
    "            break\n",
    "    ser = (pd.Series(data = ser[2:last_val].values)).apply(int)\n",
    "    return ser"
   ]
  },
  {
   "cell_type": "code",
   "execution_count": 49,
   "metadata": {
    "collapsed": true
   },
   "outputs": [],
   "source": [
    "Binomial = clean_Series(Binomial)\n",
    "Normal = clean_Series(Normal)\n",
    "Uniform = clean_Series(Uniform)"
   ]
  },
  {
   "cell_type": "markdown",
   "metadata": {},
   "source": [
    "# Part A"
   ]
  },
  {
   "cell_type": "markdown",
   "metadata": {},
   "source": [
    "## A.1"
   ]
  },
  {
   "cell_type": "markdown",
   "metadata": {},
   "source": [
    "#### For the type of distribution presented in the first column, plot a histogram (normalized to unit area) of the data."
   ]
  },
  {
   "cell_type": "markdown",
   "metadata": {},
   "source": [
    "Our distribution is binomial, so we must create the appropriate histogram"
   ]
  },
  {
   "cell_type": "markdown",
   "metadata": {},
   "source": [
    "1: Find our range for the dataset"
   ]
  },
  {
   "cell_type": "code",
   "execution_count": 50,
   "metadata": {},
   "outputs": [
    {
     "data": {
      "text/plain": [
       "0"
      ]
     },
     "execution_count": 50,
     "metadata": {},
     "output_type": "execute_result"
    }
   ],
   "source": [
    "a = Binomial.min()\n",
    "a # our minimum"
   ]
  },
  {
   "cell_type": "code",
   "execution_count": 51,
   "metadata": {},
   "outputs": [
    {
     "data": {
      "text/plain": [
       "5"
      ]
     },
     "execution_count": 51,
     "metadata": {},
     "output_type": "execute_result"
    }
   ],
   "source": [
    "b = Binomial.max()\n",
    "b # our maximum"
   ]
  },
  {
   "cell_type": "markdown",
   "metadata": {},
   "source": [
    "Now, Dr. Kleinhenz suggested we intially try shifting a and b such that a < eXi < b, so we will extend the range by 1"
   ]
  },
  {
   "cell_type": "code",
   "execution_count": 52,
   "metadata": {
    "collapsed": true
   },
   "outputs": [],
   "source": [
    "a -=.5\n",
    "b += .5"
   ]
  },
  {
   "cell_type": "code",
   "execution_count": 53,
   "metadata": {},
   "outputs": [
    {
     "data": {
      "text/plain": [
       "-0.5"
      ]
     },
     "execution_count": 53,
     "metadata": {},
     "output_type": "execute_result"
    }
   ],
   "source": [
    "a"
   ]
  },
  {
   "cell_type": "code",
   "execution_count": 54,
   "metadata": {
    "scrolled": true
   },
   "outputs": [
    {
     "data": {
      "text/plain": [
       "5.5"
      ]
     },
     "execution_count": 54,
     "metadata": {},
     "output_type": "execute_result"
    }
   ],
   "source": [
    "b"
   ]
  },
  {
   "cell_type": "markdown",
   "metadata": {},
   "source": [
    "2: we must select a width, w, and a number of bins, n such that: nw = b - a\n",
    "for a dataset of all integers, we typically pick w to be 1"
   ]
  },
  {
   "cell_type": "code",
   "execution_count": 55,
   "metadata": {
    "collapsed": true
   },
   "outputs": [],
   "source": [
    "w = 1"
   ]
  },
  {
   "cell_type": "code",
   "execution_count": 56,
   "metadata": {},
   "outputs": [
    {
     "data": {
      "text/plain": [
       "6.0"
      ]
     },
     "execution_count": 56,
     "metadata": {},
     "output_type": "execute_result"
    }
   ],
   "source": [
    "n = (b - a) / w\n",
    "n"
   ]
  },
  {
   "cell_type": "markdown",
   "metadata": {},
   "source": [
    "3: Each data point Xi can be represented as follows:\n",
    "\n",
    "Xi = a + kw + ew\n",
    "\n",
    "where *a* is the left edge of the interval, *w* is the bin width, *k* is the number of whole bins between *a* and *Xi*, and 0 <= ew <= w with 0 <= e <= 1 is a fraction of a bin.\n",
    "\n",
    "divide the equation by *w* to get:\n",
    "\n",
    "*(Xi - a)/w = k + e*\n",
    "\n",
    "Since 0 <= e <= 1 and k is an integer it must be that\n",
    "\n",
    "*k* = [ *(Xi - a)/w* ]"
   ]
  },
  {
   "cell_type": "code",
   "execution_count": 57,
   "metadata": {
    "collapsed": true
   },
   "outputs": [],
   "source": [
    "k = ((Binomial - a) / w).apply(math.floor)\n",
    "# k is our number of whole bins between between a and Xi"
   ]
  },
  {
   "cell_type": "code",
   "execution_count": 58,
   "metadata": {
    "collapsed": true
   },
   "outputs": [],
   "source": [
    "BinomialDF = pd.DataFrame(Binomial, columns = ['Binomial'])\n",
    "BinomialDF['k'] = k\n",
    "# BinomialDF is our DataFrame containing the original Binomial dataset and our \n",
    "# new k values"
   ]
  },
  {
   "cell_type": "markdown",
   "metadata": {},
   "source": [
    "4: Each time Xi falls into some bin k, we must place a rectangle over the bin base that has a height *h* and width *w* (same as bin width)\n",
    "\n",
    "The total area under all such rectangles is A = whN \n",
    "\n",
    "where N is the total number of sample points\n",
    "\n",
    "we normalize A = 1 to set h\n",
    "\n",
    "h = 1 / (wN)"
   ]
  },
  {
   "cell_type": "code",
   "execution_count": 59,
   "metadata": {},
   "outputs": [
    {
     "data": {
      "text/plain": [
       "1200"
      ]
     },
     "execution_count": 59,
     "metadata": {},
     "output_type": "execute_result"
    }
   ],
   "source": [
    "N = Binomial.size\n",
    "N"
   ]
  },
  {
   "cell_type": "code",
   "execution_count": 60,
   "metadata": {},
   "outputs": [
    {
     "data": {
      "text/plain": [
       "0.0008333333333333334"
      ]
     },
     "execution_count": 60,
     "metadata": {},
     "output_type": "execute_result"
    }
   ],
   "source": [
    "h = 1 / (w * N)\n",
    "h"
   ]
  },
  {
   "cell_type": "code",
   "execution_count": 61,
   "metadata": {
    "collapsed": true
   },
   "outputs": [],
   "source": [
    "BinomialDF['Histogram'] = pd.Series(BinomialDF['k'].value_counts())\n",
    "# BinomialDF with a Histogram column"
   ]
  },
  {
   "cell_type": "code",
   "execution_count": 62,
   "metadata": {
    "collapsed": true
   },
   "outputs": [],
   "source": [
    "BinomialDF['Histogram Normalized to Unit Area'] = pd.Series(\n",
    "    BinomialDF['Histogram'] * h)\n",
    "# BinomialDF with our Histogram normalized"
   ]
  },
  {
   "cell_type": "code",
   "execution_count": 76,
   "metadata": {},
   "outputs": [
    {
     "data": {
      "text/plain": [
       "<matplotlib.text.Text at 0x1f4f7e35898>"
      ]
     },
     "execution_count": 76,
     "metadata": {},
     "output_type": "execute_result"
    },
    {
     "data": {
      "image/png": "[encoded data removed]",
      "text/plain": [
       "<matplotlib.figure.Figure at 0x1f4f7e35748>"
      ]
     },
     "metadata": {},
     "output_type": "display_data"
    }
   ],
   "source": [
    "y = np.array(BinomialDF['Histogram Normalized to Unit Area'][0:6])\n",
    "y = np.append(y, 0)\n",
    "x = [0,1,2,3,4,5,6]\n",
    "import matplotlib.style as style\n",
    "#style.use('fivethirtyeight')\n",
    "plt.bar(x,y)\n",
    "plt.xlabel('bin number', fontsize=14)\n",
    "plt.ylabel('bin height', fontsize=14)\n",
    "plt.title('Binomial12 Histogram Normalized to 1', fontsize=16)\n",
    "plt.text(x = -1.4, y=-.1, s='  Gabriel Kralik                                                 Stats Project   '   ,\n",
    "         fontsize=14, color='#f0f0f0', backgroundcolor='grey')\\"
   ]
  },
  {
   "cell_type": "markdown",
   "metadata": {},
   "source": [
    "## A.2"
   ]
  },
  {
   "cell_type": "markdown",
   "metadata": {},
   "source": [
    "Estimate the mean and the variance for the column A distribution. For comparison, the\n",
    "exact variance is given in the cell labelled (here) Distribution Variance."
   ]
  },
  {
   "cell_type": "code",
   "execution_count": 98,
   "metadata": {
    "collapsed": true
   },
   "outputs": [],
   "source": [
    "var_act = .81 # our given distribution's actual variance"
   ]
  },
  {
   "cell_type": "code",
   "execution_count": 99,
   "metadata": {},
   "outputs": [
    {
     "data": {
      "text/plain": [
       "0.9358333333333333"
      ]
     },
     "execution_count": 99,
     "metadata": {},
     "output_type": "execute_result"
    }
   ],
   "source": [
    "mu_est = Binomial.mean()\n",
    "mu_est # our mean"
   ]
  },
  {
   "cell_type": "code",
   "execution_count": 100,
   "metadata": {},
   "outputs": [
    {
     "data": {
      "text/plain": [
       "0.8540943842090464"
      ]
     },
     "execution_count": 100,
     "metadata": {},
     "output_type": "execute_result"
    }
   ],
   "source": [
    "var_est = Binomial.var()\n",
    "var_est"
   ]
  },
  {
   "cell_type": "code",
   "execution_count": 101,
   "metadata": {},
   "outputs": [
    {
     "data": {
      "text/plain": [
       "5.443751136919306"
      ]
     },
     "execution_count": 101,
     "metadata": {},
     "output_type": "execute_result"
    }
   ],
   "source": [
    "abs((1 - var_est/var_act) * 100) # our % error in estimating variance"
   ]
  },
  {
   "cell_type": "markdown",
   "metadata": {},
   "source": [
    "## A.3"
   ]
  },
  {
   "cell_type": "markdown",
   "metadata": {},
   "source": [
    "The distributin found in the first column depends on two parameters as follows:\n",
    "\n",
    "Binomial Distribution : *n* and *p*\n",
    "\n",
    "Estimate the two parameters and determine a 96% confidence interval around each parameter"
   ]
  },
  {
   "cell_type": "markdown",
   "metadata": {
    "collapsed": true
   },
   "source": [
    "We know that the mean for a binomial is *np*\n",
    "\n",
    "We also know that the variance for a binomial is *np*(1-*p*)\n",
    "\n",
    "So we can estimate *np*(1-*p*) = var_est\n",
    "\n",
    "If we substitute mu_est for *np*, we get mu_est(1-*p*) = var_est and can solve for *p*"
   ]
  },
  {
   "cell_type": "code",
   "execution_count": 131,
   "metadata": {},
   "outputs": [
    {
     "data": {
      "text/plain": [
       "0.13446126447016915"
      ]
     },
     "execution_count": 131,
     "metadata": {},
     "output_type": "execute_result"
    }
   ],
   "source": [
    "p = 1 - (var_act / mu_est)\n",
    "p # our estimated p value for a binomial "
   ]
  },
  {
   "cell_type": "code",
   "execution_count": 132,
   "metadata": {},
   "outputs": [
    {
     "data": {
      "text/plain": [
       "6.959873068432673"
      ]
     },
     "execution_count": 132,
     "metadata": {},
     "output_type": "execute_result"
    }
   ],
   "source": [
    "n = mu_est / p\n",
    "n # our estimated n value for a binomial "
   ]
  },
  {
   "cell_type": "markdown",
   "metadata": {},
   "source": [
    "Now, we must obtain a 96% confidence interval around these parameters\n",
    "\n",
    "Since we have a known variance (.81) and a large number of samples (1200), we can use the confidence interval around mu and apply it to each parameter\n",
    "\n",
    "We know to get a (1 - alpha)100% confidence interval around mu, we can use                         \n",
    "mu +- Z(alpha/2)(standard_deviation/N)"
   ]
  },
  {
   "cell_type": "code",
   "execution_count": 133,
   "metadata": {},
   "outputs": [
    {
     "data": {
      "text/plain": [
       "0.04"
      ]
     },
     "execution_count": 133,
     "metadata": {},
     "output_type": "execute_result"
    }
   ],
   "source": [
    "alpha = .04\n",
    "alpha"
   ]
  },
  {
   "cell_type": "code",
   "execution_count": 134,
   "metadata": {},
   "outputs": [
    {
     "data": {
      "text/plain": [
       "2.0537489106318225"
      ]
     },
     "execution_count": 134,
     "metadata": {},
     "output_type": "execute_result"
    }
   ],
   "source": [
    "Z = norm.ppf(1 - alpha / 2)\n",
    "Z # our Z(alpha/2)vc"
   ]
  },
  {
   "cell_type": "code",
   "execution_count": 135,
   "metadata": {},
   "outputs": [
    {
     "data": {
      "text/plain": [
       "0.9"
      ]
     },
     "execution_count": 135,
     "metadata": {},
     "output_type": "execute_result"
    }
   ],
   "source": [
    "std_dev = math.sqrt(var_act)\n",
    "std_dev # our standard deviation"
   ]
  },
  {
   "cell_type": "code",
   "execution_count": 200,
   "metadata": {},
   "outputs": [
    {
     "data": {
      "text/plain": [
       "0.98919129522138649"
      ]
     },
     "execution_count": 200,
     "metadata": {},
     "output_type": "execute_result"
    }
   ],
   "source": [
    "R = (mu_est + Z * (std_dev / math.sqrt(N)))\n",
    "R # our upper bound mean"
   ]
  },
  {
   "cell_type": "code",
   "execution_count": 201,
   "metadata": {},
   "outputs": [
    {
     "data": {
      "text/plain": [
       "0.8824753714452801"
      ]
     },
     "execution_count": 201,
     "metadata": {},
     "output_type": "execute_result"
    }
   ],
   "source": [
    "L = (mu_est - Z * (std_dev / math.sqrt(N)))\n",
    "L # our lower bound for mean"
   ]
  },
  {
   "cell_type": "markdown",
   "metadata": {
    "collapsed": true
   },
   "source": [
    "So, we can say that our has a 96% chance of lying in the range         \n",
    "[0.8824753714452801, 0.98919129522138649]\n",
    "\n",
    "With this information, we can estimate the same 96% confidence interval by taking p's lower bound to be 1 - (variance / (mean lower bound) "
   ]
  },
  {
   "cell_type": "code",
   "execution_count": 150,
   "metadata": {},
   "outputs": [
    {
     "data": {
      "text/plain": [
       "0.082127358780090365"
      ]
     },
     "execution_count": 150,
     "metadata": {},
     "output_type": "execute_result"
    }
   ],
   "source": [
    "p_L = 1 - (var_act / L )\n",
    "p_L # our lower bound for p"
   ]
  },
  {
   "cell_type": "code",
   "execution_count": 151,
   "metadata": {},
   "outputs": [
    {
     "data": {
      "text/plain": [
       "0.18114928435685684"
      ]
     },
     "execution_count": 151,
     "metadata": {},
     "output_type": "execute_result"
    }
   ],
   "source": [
    "p_R = 1 - (var_act / R)\n",
    "p_R # our upper bound for p"
   ]
  },
  {
   "cell_type": "code",
   "execution_count": 155,
   "metadata": {},
   "outputs": [
    {
     "data": {
      "text/plain": [
       "0.13446126447016915"
      ]
     },
     "execution_count": 155,
     "metadata": {},
     "output_type": "execute_result"
    }
   ],
   "source": [
    "p # p"
   ]
  },
  {
   "cell_type": "markdown",
   "metadata": {},
   "source": [
    "Now we estimate the confidence interval for n by n = mean_bound / p_bound"
   ]
  },
  {
   "cell_type": "code",
   "execution_count": 189,
   "metadata": {},
   "outputs": [
    {
     "data": {
      "text/plain": [
       "10.745205794432698"
      ]
     },
     "execution_count": 189,
     "metadata": {},
     "output_type": "execute_result"
    }
   ],
   "source": [
    "n_R = L / p_L\n",
    "n_R"
   ]
  },
  {
   "cell_type": "code",
   "execution_count": 193,
   "metadata": {},
   "outputs": [
    {
     "data": {
      "text/plain": [
       "5.4606414744245919"
      ]
     },
     "execution_count": 193,
     "metadata": {},
     "output_type": "execute_result"
    }
   ],
   "source": [
    "n_L = R / p_R\n",
    "n_L"
   ]
  },
  {
   "cell_type": "code",
   "execution_count": 186,
   "metadata": {},
   "outputs": [
    {
     "data": {
      "text/plain": [
       "6.959873068432673"
      ]
     },
     "execution_count": 186,
     "metadata": {},
     "output_type": "execute_result"
    }
   ],
   "source": [
    "n"
   ]
  },
  {
   "cell_type": "markdown",
   "metadata": {},
   "source": [
    "So our confidence interval for *n* is [5.4606414744245919, 10.745205794432698]"
   ]
  },
  {
   "cell_type": "markdown",
   "metadata": {
    "collapsed": true
   },
   "source": [
    "## A.4"
   ]
  },
  {
   "cell_type": "markdown",
   "metadata": {
    "collapsed": true
   },
   "source": [
    "How large a data set is needed to get 96% confidence intervals of width 0.01 or smaller around the two parameters (Assume X and S^2 do not change significantly with *N* when *N* is large.)"
   ]
  },
  {
   "cell_type": "markdown",
   "metadata": {},
   "source": [
    "First we'll look at the width of P's confidence interval\n",
    "\n",
    "The width of P's confidence interval is p_R - p_L, if we replace it with its mean bounds is:                       \n",
    "\n",
    "1 - (var_act / R) - (1 - (var_act / L ))\n",
    "\n",
    "which becomes   \n",
    "\n",
    "(1 - (var_act / (mu_est + Z * (std_dev / math.sqrt(N))))) - (1 - (var_act / (mu_est - Z * (std_dev / math.sqrt(N))))) = 0.099021925576766479\n",
    "\n",
    "we want this width to become .01"
   ]
  },
  {
   "cell_type": "code",
   "execution_count": 206,
   "metadata": {},
   "outputs": [
    {
     "data": {
      "text/plain": [
       "0.099021925576766479"
      ]
     },
     "execution_count": 206,
     "metadata": {},
     "output_type": "execute_result"
    }
   ],
   "source": [
    "p_width = p_R - p_L\n",
    "p_width"
   ]
  },
  {
   "cell_type": "code",
   "execution_count": 207,
   "metadata": {},
   "outputs": [
    {
     "name": "stdout",
     "output_type": "stream",
     "text": [
      "num: 116909\n",
      "count: 0.00999996243817\n"
     ]
    }
   ],
   "source": [
    "num = 1200\n",
    "count = 1 # arbitrary assignment for the first loop since python has no 'do while'\n",
    "while count > .01:\n",
    "    num += 1\n",
    "    count = (1 - (var_act / (mu_est + Z * (std_dev / math.sqrt(num))))) - (1 - (var_act / (mu_est - Z * (std_dev / math.sqrt(num)))))\n",
    "    \n",
    "print('num: ' + str(num))\n",
    "print('count: ' + str(count))"
   ]
  },
  {
   "cell_type": "markdown",
   "metadata": {},
   "source": [
    "The number of data points to get a confidence interval of width .01 for our *p* value is 1116909\n",
    "\n",
    "Now, we must try to obtain that confidence interval width for *n*\n",
    "\n",
    "n_R - n_L = 5.2845643200081058\n",
    "\n",
    "If we do the same to n_R - n_L as we did with *p*'s confidence interval, we obtain the width expression:\n",
    "\n",
    "((mu_est - Z(std_dev / math.sqrt(N))) / (1 - (var_act / (mu_est - Z(std_dev / math.sqrt(N)))))) - ((mu_est + Z(std_dev / math.sqrt(N))) / (1 - (var_act / (mu_est + Z(std_dev / math.sqrt(N))))))\n",
    "\n",
    "and we wish to set it equal to .01 "
   ]
  },
  {
   "cell_type": "code",
   "execution_count": 264,
   "metadata": {},
   "outputs": [
    {
     "data": {
      "text/plain": [
       "223530008"
      ]
     },
     "execution_count": 264,
     "metadata": {},
     "output_type": "execute_result"
    }
   ],
   "source": [
    "numn = 116909 \n",
    "countn = 1\n",
    "countt = 2\n",
    "while countn > .01:\n",
    "    countt += 1\n",
    "    numn = 116909*countt\n",
    "    countn = ((mu_est - Z * (std_dev / math.sqrt(numn))) / (1 - (var_act / (mu_est - Z * (std_dev / math.sqrt(numn)))))) - ((mu_est + Z * (std_dev / math.sqrt(numn))) / (1 - (var_act / (mu_est + Z * (std_dev / math.sqrt(numn))))))\n",
    "    \n",
    "    \n",
    "numn"
   ]
  },
  {
   "cell_type": "code",
   "execution_count": null,
   "metadata": {},
   "outputs": [],
   "source": []
  },
  {
   "cell_type": "code",
   "execution_count": null,
   "metadata": {
    "collapsed": true
   },
   "outputs": [],
   "source": []
  },
  {
   "cell_type": "code",
   "execution_count": null,
   "metadata": {
    "collapsed": true
   },
   "outputs": [],
   "source": []
  },
  {
   "cell_type": "code",
   "execution_count": null,
   "metadata": {
    "collapsed": true
   },
   "outputs": [],
   "source": []
  },
  {
   "cell_type": "code",
   "execution_count": null,
   "metadata": {
    "collapsed": true
   },
   "outputs": [],
   "source": []
  },
  {
   "cell_type": "code",
   "execution_count": null,
   "metadata": {
    "collapsed": true
   },
   "outputs": [],
   "source": []
  }
 ],
 "metadata": {
  "kernelspec": {
   "display_name": "Python 3",
   "language": "python",
   "name": "python3"
  },
  "language_info": {
   "codemirror_mode": {
    "name": "ipython",
    "version": 3
   },
   "file_extension": ".py",
   "mimetype": "text/x-python",
   "name": "python",
   "nbconvert_exporter": "python",
   "pygments_lexer": "ipython3",
   "version": "3.6.3"
  }
 },
 "nbformat": 4,
 "nbformat_minor": 2
}
